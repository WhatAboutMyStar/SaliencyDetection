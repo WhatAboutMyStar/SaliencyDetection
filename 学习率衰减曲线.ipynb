{
 "cells": [
  {
   "cell_type": "code",
   "execution_count": 1,
   "metadata": {},
   "outputs": [],
   "source": [
    "import math"
   ]
  },
  {
   "cell_type": "code",
   "execution_count": 2,
   "metadata": {},
   "outputs": [],
   "source": [
    "epochs = 50\n",
    "base_lr = 0.01"
   ]
  },
  {
   "cell_type": "code",
   "execution_count": 3,
   "metadata": {},
   "outputs": [],
   "source": [
    "def lr_scheduler(epoch):\n",
    "    drop = 0.5\n",
    "    epoch_drop = epochs/8.\n",
    "    lr = base_lr * math.pow(drop, math.floor((1+epoch)/epoch_drop))\n",
    "    print('lr: {:.15f}'.format(lr))\n",
    "    return lr"
   ]
  },
  {
   "cell_type": "code",
   "execution_count": 4,
   "metadata": {
    "scrolled": false
   },
   "outputs": [
    {
     "name": "stdout",
     "output_type": "stream",
     "text": [
      "Epoch 1:\n",
      "lr: 0.010000000000000\n",
      "Epoch 2:\n",
      "lr: 0.010000000000000\n",
      "Epoch 3:\n",
      "lr: 0.010000000000000\n",
      "Epoch 4:\n",
      "lr: 0.010000000000000\n",
      "Epoch 5:\n",
      "lr: 0.010000000000000\n",
      "Epoch 6:\n",
      "lr: 0.005000000000000\n",
      "Epoch 7:\n",
      "lr: 0.005000000000000\n",
      "Epoch 8:\n",
      "lr: 0.005000000000000\n",
      "Epoch 9:\n",
      "lr: 0.005000000000000\n",
      "Epoch 10:\n",
      "lr: 0.005000000000000\n",
      "Epoch 11:\n",
      "lr: 0.005000000000000\n",
      "Epoch 12:\n",
      "lr: 0.002500000000000\n",
      "Epoch 13:\n",
      "lr: 0.002500000000000\n",
      "Epoch 14:\n",
      "lr: 0.002500000000000\n",
      "Epoch 15:\n",
      "lr: 0.002500000000000\n",
      "Epoch 16:\n",
      "lr: 0.002500000000000\n",
      "Epoch 17:\n",
      "lr: 0.002500000000000\n",
      "Epoch 18:\n",
      "lr: 0.001250000000000\n",
      "Epoch 19:\n",
      "lr: 0.001250000000000\n",
      "Epoch 20:\n",
      "lr: 0.001250000000000\n",
      "Epoch 21:\n",
      "lr: 0.001250000000000\n",
      "Epoch 22:\n",
      "lr: 0.001250000000000\n",
      "Epoch 23:\n",
      "lr: 0.001250000000000\n",
      "Epoch 24:\n",
      "lr: 0.000625000000000\n",
      "Epoch 25:\n",
      "lr: 0.000625000000000\n",
      "Epoch 26:\n",
      "lr: 0.000625000000000\n",
      "Epoch 27:\n",
      "lr: 0.000625000000000\n",
      "Epoch 28:\n",
      "lr: 0.000625000000000\n",
      "Epoch 29:\n",
      "lr: 0.000625000000000\n",
      "Epoch 30:\n",
      "lr: 0.000625000000000\n",
      "Epoch 31:\n",
      "lr: 0.000312500000000\n",
      "Epoch 32:\n",
      "lr: 0.000312500000000\n",
      "Epoch 33:\n",
      "lr: 0.000312500000000\n",
      "Epoch 34:\n",
      "lr: 0.000312500000000\n",
      "Epoch 35:\n",
      "lr: 0.000312500000000\n",
      "Epoch 36:\n",
      "lr: 0.000312500000000\n",
      "Epoch 37:\n",
      "lr: 0.000156250000000\n",
      "Epoch 38:\n",
      "lr: 0.000156250000000\n",
      "Epoch 39:\n",
      "lr: 0.000156250000000\n",
      "Epoch 40:\n",
      "lr: 0.000156250000000\n",
      "Epoch 41:\n",
      "lr: 0.000156250000000\n",
      "Epoch 42:\n",
      "lr: 0.000156250000000\n",
      "Epoch 43:\n",
      "lr: 0.000078125000000\n",
      "Epoch 44:\n",
      "lr: 0.000078125000000\n",
      "Epoch 45:\n",
      "lr: 0.000078125000000\n",
      "Epoch 46:\n",
      "lr: 0.000078125000000\n",
      "Epoch 47:\n",
      "lr: 0.000078125000000\n",
      "Epoch 48:\n",
      "lr: 0.000078125000000\n",
      "Epoch 49:\n",
      "lr: 0.000039062500000\n",
      "Epoch 50:\n",
      "lr: 0.000039062500000\n"
     ]
    }
   ],
   "source": [
    "lr = []\n",
    "for i in range(1, 51):\n",
    "    print(\"Epoch {}:\".format(i))\n",
    "    lr.append(lr_scheduler(i))"
   ]
  },
  {
   "cell_type": "code",
   "execution_count": 5,
   "metadata": {},
   "outputs": [],
   "source": [
    "import matplotlib.pyplot as plt"
   ]
  },
  {
   "cell_type": "code",
   "execution_count": 6,
   "metadata": {},
   "outputs": [
    {
     "data": {
      "text/plain": [
       "[0.01,\n",
       " 0.005,\n",
       " 0.0025,\n",
       " 0.00125,\n",
       " 0.000625,\n",
       " 0.0003125,\n",
       " 0.00015625,\n",
       " 7.8125e-05,\n",
       " 3.90625e-05]"
      ]
     },
     "execution_count": 6,
     "metadata": {},
     "output_type": "execute_result"
    }
   ],
   "source": [
    "lr2 = set(lr)\n",
    "lr2 = list(lr2)\n",
    "lr2.sort(reverse=True)\n",
    "lr2"
   ]
  },
  {
   "cell_type": "code",
   "execution_count": 7,
   "metadata": {},
   "outputs": [
    {
     "name": "stdout",
     "output_type": "stream",
     "text": [
      "9\n",
      "9\n"
     ]
    }
   ],
   "source": [
    "t = lr[0]\n",
    "ls = [1]\n",
    "\n",
    "for idx, i in enumerate(lr, start=1):\n",
    "    if i != t:\n",
    "        t = i\n",
    "        ls.append(idx)\n",
    "print(len(ls))\n",
    "print(len(lr2))"
   ]
  },
  {
   "cell_type": "code",
   "execution_count": 8,
   "metadata": {},
   "outputs": [
    {
     "data": {
      "image/png": "[encoded data removed]",
      "text/plain": [
       "<Figure size 432x288 with 1 Axes>"
      ]
     },
     "metadata": {
      "needs_background": "light"
     },
     "output_type": "display_data"
    }
   ],
   "source": [
    "# ran = [i for i in range(50)]\n",
    "plt.plot(range(1, 51), lr)\n",
    "plt.plot(ls, lr2)\n",
    "plt.grid(True)\n",
    "plt.title(\"lr decay\")\n",
    "plt.show()"
   ]
  },
  {
   "cell_type": "code",
   "execution_count": null,
   "metadata": {},
   "outputs": [],
   "source": []
  },
  {
   "cell_type": "code",
   "execution_count": null,
   "metadata": {},
   "outputs": [],
   "source": []
  }
 ],
 "metadata": {
  "kernelspec": {
   "display_name": "Python 3",
   "language": "python",
   "name": "python3"
  },
  "language_info": {
   "codemirror_mode": {
    "name": "ipython",
    "version": 3
   },
   "file_extension": ".py",
   "mimetype": "text/x-python",
   "name": "python",
   "nbconvert_exporter": "python",
   "pygments_lexer": "ipython3",
   "version": "3.6.10"
  }
 },
 "nbformat": 4,
 "nbformat_minor": 4
}
