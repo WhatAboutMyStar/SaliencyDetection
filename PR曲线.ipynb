{
 "cells": [
  {
   "cell_type": "code",
   "execution_count": 1,
   "metadata": {},
   "outputs": [
    {
     "name": "stdout",
     "output_type": "stream",
     "text": [
      "1.6.0+cu101\n",
      "0.7.0+cu101\n",
      "4.3.0\n",
      "1.19.1\n"
     ]
    }
   ],
   "source": [
    "import torch\n",
    "from torch.utils import data\n",
    "import torchvision\n",
    "from torchvision import transforms\n",
    "import os\n",
    "import cv2\n",
    "import numpy as np\n",
    "import matplotlib.pyplot as plt\n",
    "import time\n",
    "\n",
    "from data import LoadTest, LoadTest2\n",
    "from model import VGG16\n",
    "from utils import *\n",
    "\n",
    "for name in (torch, torchvision, cv2, np):\n",
    "    print(name.__version__)"
   ]
  },
  {
   "cell_type": "code",
   "execution_count": 2,
   "metadata": {},
   "outputs": [
    {
     "data": {
      "text/plain": [
       "device(type='cuda')"
      ]
     },
     "execution_count": 2,
     "metadata": {},
     "output_type": "execute_result"
    }
   ],
   "source": [
    "if torch.cuda.is_available():\n",
    "    device = torch.device(device='cuda')\n",
    "else:\n",
    "    device = torch.device(device='cpu')\n",
    "device"
   ]
  },
  {
   "cell_type": "code",
   "execution_count": 3,
   "metadata": {},
   "outputs": [],
   "source": [
    "path_image = \"./DUTS/DUTS-TE/DUTS-TE-Image/\"\n",
    "path_mask = \"./DUTS/DUTS-TE/DUTS-TE-Mask/\"\n",
    "\n",
    "# path_image = \"./DUT-OMROM/DUT-OMRON-image/\"\n",
    "# path_mask = \"./DUT-OMROM/pixelwiseGT-new-PNG/\"\n",
    "\n",
    "batch_size = 8 #受限于贫穷，4是极限了\n",
    "target_size = 256"
   ]
  },
  {
   "cell_type": "code",
   "execution_count": 4,
   "metadata": {},
   "outputs": [],
   "source": [
    "data_loader = data.DataLoader(LoadTest(path_image, path_mask, target_size),\n",
    "                            batch_size=batch_size,\n",
    "                            shuffle=False)"
   ]
  },
  {
   "cell_type": "code",
   "execution_count": 5,
   "metadata": {},
   "outputs": [
    {
     "data": {
      "text/plain": [
       "628"
      ]
     },
     "execution_count": 5,
     "metadata": {},
     "output_type": "execute_result"
    }
   ],
   "source": [
    "total_batch = len(data_loader)\n",
    "total_batch"
   ]
  },
  {
   "cell_type": "code",
   "execution_count": 6,
   "metadata": {},
   "outputs": [
    {
     "data": {
      "text/plain": [
       "<All keys matched successfully>"
      ]
     },
     "execution_count": 6,
     "metadata": {},
     "output_type": "execute_result"
    }
   ],
   "source": [
    "model = VGG16()\n",
    "model.load_state_dict(torch.load(\"./model/PFA_101.pth\"), strict=False)"
   ]
  },
  {
   "cell_type": "code",
   "execution_count": 7,
   "metadata": {},
   "outputs": [
    {
     "name": "stdout",
     "output_type": "stream",
     "text": [
      "\n"
     ]
    }
   ],
   "source": [
    "model.eval()\n",
    "model.to(device)\n",
    "print()"
   ]
  },
  {
   "cell_type": "code",
   "execution_count": 8,
   "metadata": {},
   "outputs": [],
   "source": [
    "for layer in model.parameters():\n",
    "    layer.requires_grad = False"
   ]
  },
  {
   "cell_type": "code",
   "execution_count": 9,
   "metadata": {
    "scrolled": true
   },
   "outputs": [
    {
     "data": {
      "text/plain": [
       "array([0.1, 0.2, 0.3, 0.4, 0.5, 0.6, 0.7, 0.8, 0.9])"
      ]
     },
     "execution_count": 9,
     "metadata": {},
     "output_type": "execute_result"
    }
   ],
   "source": [
    "threshold = np.arange(0.1, 1, 0.1)\n",
    "threshold"
   ]
  },
  {
   "cell_type": "code",
   "execution_count": 10,
   "metadata": {},
   "outputs": [
    {
     "name": "stdout",
     "output_type": "stream",
     "text": [
      "[0.73165371 0.77964061 0.80762315 0.82833429 0.84553849 0.86117674\n",
      " 0.87643497 0.89295479 0.91367406]\n",
      "[0.86186776 0.82090275 0.79044794 0.76370841 0.73783929 0.71070043\n",
      " 0.67977275 0.64033239 0.57796619]\n"
     ]
    }
   ],
   "source": [
    "pre_list = np.zeros(9)\n",
    "rec_list = np.zeros(9)\n",
    "for batch_n, (image, mask) in enumerate(data_loader, start=1):\n",
    "    image = image.to(device)\n",
    "    mask = mask.to(device)\n",
    "    \n",
    "    predict = model(image)\n",
    "    for idx, val in enumerate(threshold):\n",
    "        pred = (predict >= val).float().to(device)\n",
    "        \n",
    "        pre = precision(pred, mask)\n",
    "        pre = pre.cpu().detach()\n",
    "        pre_list[idx] += np.array(pre)\n",
    "        \n",
    "        rec = recall(pred, mask)\n",
    "        rec = rec.cpu().detach()\n",
    "        rec_list[idx] += np.array(rec)\n",
    "\n",
    "pre_list = pre_list / total_batch\n",
    "rec_list = rec_list / total_batch\n",
    "print(pre_list)\n",
    "print(rec_list)"
   ]
  },
  {
   "cell_type": "markdown",
   "metadata": {},
   "source": [
    "## DUTS-TE"
   ]
  },
  {
   "cell_type": "code",
   "execution_count": 11,
   "metadata": {},
   "outputs": [
    {
     "data": {
      "image/png": "[encoded data removed]",
      "text/plain": [
       "<Figure size 432x288 with 1 Axes>"
      ]
     },
     "metadata": {
      "needs_background": "light"
     },
     "output_type": "display_data"
    }
   ],
   "source": [
    "plt.plot(rec_list, pre_list)\n",
    "plt.title(\"DUTS-TE pr curve\")\n",
    "plt.xlabel(\"recall\")\n",
    "plt.ylabel(\"precision\")\n",
    "plt.grid(True)\n",
    "plt.show()"
   ]
  },
  {
   "cell_type": "code",
   "execution_count": 12,
   "metadata": {},
   "outputs": [
    {
     "data": {
      "text/plain": [
       "646"
      ]
     },
     "execution_count": 12,
     "metadata": {},
     "output_type": "execute_result"
    }
   ],
   "source": [
    "path_image = \"./DUT-OMROM/DUT-OMRON-image/\"\n",
    "path_mask = \"./DUT-OMROM/pixelwiseGT-new-PNG/\"\n",
    "\n",
    "data_loader = data.DataLoader(LoadTest(path_image, path_mask, target_size),\n",
    "                            batch_size=batch_size,\n",
    "                            shuffle=False)\n",
    "total_batch = len(data_loader)\n",
    "total_batch"
   ]
  },
  {
   "cell_type": "code",
   "execution_count": 13,
   "metadata": {},
   "outputs": [
    {
     "name": "stdout",
     "output_type": "stream",
     "text": [
      "[0.69986672 0.75076246 0.78066678 0.80264197 0.82099489 0.83781765\n",
      " 0.85454747 0.87301484 0.89664144]\n",
      "[0.82568391 0.7856183  0.75601045 0.72992815 0.70473614 0.67825984\n",
      " 0.64806397 0.6094263  0.54830168]\n"
     ]
    }
   ],
   "source": [
    "pre_list = np.zeros(9)\n",
    "rec_list = np.zeros(9)\n",
    "for batch_n, (image, mask) in enumerate(data_loader, start=1):\n",
    "    image = image.to(device)\n",
    "    mask = mask.to(device)\n",
    "    \n",
    "    predict = model(image)\n",
    "    for idx, val in enumerate(threshold):\n",
    "        pred = (predict >= val).float().to(device)\n",
    "        \n",
    "        pre = precision(pred, mask)\n",
    "        pre = pre.cpu().detach()\n",
    "        pre_list[idx] += np.array(pre)\n",
    "        \n",
    "        rec = recall(pred, mask)\n",
    "        rec = rec.cpu().detach()\n",
    "        rec_list[idx] += np.array(rec)\n",
    "\n",
    "pre_list = pre_list / total_batch\n",
    "rec_list = rec_list / total_batch\n",
    "print(pre_list)\n",
    "print(rec_list)"
   ]
  },
  {
   "cell_type": "markdown",
   "metadata": {},
   "source": [
    "## DUTS-OMROM"
   ]
  },
  {
   "cell_type": "code",
   "execution_count": 14,
   "metadata": {},
   "outputs": [
    {
     "data": {
      "image/png": "[encoded data removed]",
      "text/plain": [
       "<Figure size 432x288 with 1 Axes>"
      ]
     },
     "metadata": {
      "needs_background": "light"
     },
     "output_type": "display_data"
    }
   ],
   "source": [
    "plt.plot(rec_list, pre_list)\n",
    "plt.title(\"DUTS-OMROM pr curve\")\n",
    "plt.xlabel(\"recall\")\n",
    "plt.ylabel(\"precision\")\n",
    "plt.grid(True)\n",
    "plt.show()"
   ]
  },
  {
   "cell_type": "code",
   "execution_count": 15,
   "metadata": {},
   "outputs": [
    {
     "data": {
      "text/plain": [
       "556"
      ]
     },
     "execution_count": 15,
     "metadata": {},
     "output_type": "execute_result"
    }
   ],
   "source": [
    "path_img_mask = \"./HKU-IS/Imgs/\"\n",
    "data_loader = data.DataLoader(LoadTest2(path_img_mask, target_size),\n",
    "                            batch_size=batch_size,\n",
    "                            shuffle=False)\n",
    "total_batch = len(data_loader)\n",
    "total_batch"
   ]
  },
  {
   "cell_type": "code",
   "execution_count": 16,
   "metadata": {},
   "outputs": [
    {
     "name": "stdout",
     "output_type": "stream",
     "text": [
      "[0.82924631 0.86777016 0.88952589 0.90515202 0.9178458  0.92907036\n",
      " 0.9398348  0.95102634 0.96410605]\n",
      "[0.902283   0.86914334 0.8437557  0.82084523 0.79842554 0.77453753\n",
      " 0.74662039 0.71014709 0.65068385]\n"
     ]
    }
   ],
   "source": [
    "pre_list = np.zeros(9)\n",
    "rec_list = np.zeros(9)\n",
    "for batch_n, (image, mask) in enumerate(data_loader, start=1):\n",
    "    image = image.to(device)\n",
    "    mask = mask.to(device)\n",
    "    \n",
    "    predict = model(image)\n",
    "    for idx, val in enumerate(threshold):\n",
    "        pred = (predict >= val).float().to(device)\n",
    "        \n",
    "        pre = precision(pred, mask)\n",
    "        pre = pre.cpu().detach()\n",
    "        pre_list[idx] += np.array(pre)\n",
    "        \n",
    "        rec = recall(pred, mask)\n",
    "        rec = rec.cpu().detach()\n",
    "        rec_list[idx] += np.array(rec)\n",
    "\n",
    "pre_list = pre_list / total_batch\n",
    "rec_list = rec_list / total_batch\n",
    "print(pre_list)\n",
    "print(rec_list)"
   ]
  },
  {
   "cell_type": "markdown",
   "metadata": {},
   "source": [
    "## HKU-IS"
   ]
  },
  {
   "cell_type": "code",
   "execution_count": 17,
   "metadata": {},
   "outputs": [
    {
     "data": {
      "image/png": "[encoded data removed]",
      "text/plain": [
       "<Figure size 432x288 with 1 Axes>"
      ]
     },
     "metadata": {
      "needs_background": "light"
     },
     "output_type": "display_data"
    }
   ],
   "source": [
    "plt.plot(rec_list, pre_list)\n",
    "plt.title(\"HKU-IS pr curve\")\n",
    "plt.xlabel(\"recall\")\n",
    "plt.ylabel(\"precision\")\n",
    "plt.grid(True)\n",
    "plt.show()"
   ]
  },
  {
   "cell_type": "code",
   "execution_count": 18,
   "metadata": {},
   "outputs": [
    {
     "data": {
      "text/plain": [
       "107"
      ]
     },
     "execution_count": 18,
     "metadata": {},
     "output_type": "execute_result"
    }
   ],
   "source": [
    "path_img_mask = \"./PASCAL-S/Imgs/\"\n",
    "data_loader = data.DataLoader(LoadTest2(path_img_mask, target_size),\n",
    "                            batch_size=batch_size,\n",
    "                            shuffle=False)\n",
    "total_batch = len(data_loader)\n",
    "total_batch"
   ]
  },
  {
   "cell_type": "code",
   "execution_count": 19,
   "metadata": {},
   "outputs": [
    {
     "name": "stdout",
     "output_type": "stream",
     "text": [
      "[0.78881792 0.82496629 0.84671496 0.86326871 0.87751258 0.89089565\n",
      " 0.90417809 0.91870273 0.93689487]\n",
      "[0.84838266 0.80944068 0.78080669 0.75621865 0.73307673 0.70920691\n",
      " 0.68212412 0.6474886  0.59162952]\n"
     ]
    }
   ],
   "source": [
    "pre_list = np.zeros(9)\n",
    "rec_list = np.zeros(9)\n",
    "for batch_n, (image, mask) in enumerate(data_loader, start=1):\n",
    "    image = image.to(device)\n",
    "    mask = mask.to(device)\n",
    "    \n",
    "    predict = model(image)\n",
    "    for idx, val in enumerate(threshold):\n",
    "        pred = (predict >= val).float().to(device)\n",
    "        \n",
    "        pre = precision(pred, mask)\n",
    "        pre = pre.cpu().detach()\n",
    "        pre_list[idx] += np.array(pre)\n",
    "        \n",
    "        rec = recall(pred, mask)\n",
    "        rec = rec.cpu().detach()\n",
    "        rec_list[idx] += np.array(rec)\n",
    "\n",
    "pre_list = pre_list / total_batch\n",
    "rec_list = rec_list / total_batch\n",
    "print(pre_list)\n",
    "print(rec_list)"
   ]
  },
  {
   "cell_type": "markdown",
   "metadata": {},
   "source": [
    "## PASCAL-S"
   ]
  },
  {
   "cell_type": "code",
   "execution_count": 20,
   "metadata": {},
   "outputs": [
    {
     "data": {
      "image/png": "[encoded data removed]",
      "text/plain": [
       "<Figure size 432x288 with 1 Axes>"
      ]
     },
     "metadata": {
      "needs_background": "light"
     },
     "output_type": "display_data"
    }
   ],
   "source": [
    "plt.plot(rec_list, pre_list)\n",
    "plt.title(\"PASCAL-S pr curve\")\n",
    "plt.xlabel(\"recall\")\n",
    "plt.ylabel(\"precision\")\n",
    "plt.grid(True)\n",
    "plt.show()"
   ]
  },
  {
   "cell_type": "code",
   "execution_count": null,
   "metadata": {},
   "outputs": [],
   "source": []
  },
  {
   "cell_type": "code",
   "execution_count": null,
   "metadata": {},
   "outputs": [],
   "source": []
  },
  {
   "cell_type": "code",
   "execution_count": null,
   "metadata": {},
   "outputs": [],
   "source": []
  }
 ],
 "metadata": {
  "kernelspec": {
   "display_name": "Python 3",
   "language": "python",
   "name": "python3"
  },
  "language_info": {
   "codemirror_mode": {
    "name": "ipython",
    "version": 3
   },
   "file_extension": ".py",
   "mimetype": "text/x-python",
   "name": "python",
   "nbconvert_exporter": "python",
   "pygments_lexer": "ipython3",
   "version": "3.6.10"
  }
 },
 "nbformat": 4,
 "nbformat_minor": 4
}
