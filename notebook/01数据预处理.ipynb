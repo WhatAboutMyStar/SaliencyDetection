{
 "cells": [
  {
   "cell_type": "code",
   "execution_count": 21,
   "metadata": {},
   "outputs": [
    {
     "name": "stdout",
     "output_type": "stream",
     "text": [
      "1.6.0+cu101\n",
      "0.7.0+cu101\n",
      "4.3.0\n",
      "1.19.1\n"
     ]
    }
   ],
   "source": [
    "import torch\n",
    "import torchvision\n",
    "import cv2\n",
    "from torch.utils import data\n",
    "from torchvision import transforms\n",
    "from PIL import Image\n",
    "import os\n",
    "import numpy as np\n",
    "import random\n",
    "\n",
    "for v in (torch, torchvision, cv2, np):\n",
    "    print(v.__version__)"
   ]
  },
  {
   "cell_type": "code",
   "execution_count": 2,
   "metadata": {},
   "outputs": [],
   "source": [
    "path_image = \"./DUTS/DUTS-TR/DUTS-TR-Image/\"\n",
    "path_mask = \"./DUTS/DUTS-TR/DUTS-TR-Mask/\""
   ]
  },
  {
   "cell_type": "code",
   "execution_count": 8,
   "metadata": {},
   "outputs": [
    {
     "data": {
      "text/plain": [
       "(400, 388, 3)"
      ]
     },
     "execution_count": 8,
     "metadata": {},
     "output_type": "execute_result"
    }
   ],
   "source": [
    "img = cv2.imread(\"./image/1.jpg\")\n",
    "img.shape"
   ]
  },
  {
   "cell_type": "code",
   "execution_count": 32,
   "metadata": {},
   "outputs": [],
   "source": [
    "class LoadData(data.Dataset):\n",
    "    def __init__(self, img_path, mask_path, target_size):\n",
    "        self.img_path = img_path\n",
    "        self.mask_path = mask_path\n",
    "        self.target_size = target_size\n",
    "        \n",
    "        self.image = os.listdir(img_path)\n",
    "        self.mask = []\n",
    "        for name in os.listdir(img_path):\n",
    "            name = name[:-3] + \"png\"\n",
    "            self.mask.append(name)\n",
    "    \n",
    "    def __getitem__(self, index):\n",
    "        image = cv2.imread(self.img_path + self.image[index])\n",
    "        #交换RGB通道\n",
    "        image = cv2.cvtColor(image, cv2.COLOR_BGR2RGB)\n",
    "        mask = cv2.imread(self.mask_path + self.mask[index])\n",
    "        if len(mask.shape) == 3:\n",
    "            mask = mask[:,:,0]\n",
    "        mask = mask / 255.\n",
    "        \n",
    "        image = cv2.resize(image, self.target_size, interpolation=cv2.INTER_LINEAR)\n",
    "        mask = cv2.resize(mask, self.target_size, interpolation=cv2.INTER_NEAREST)\n",
    "        \n",
    "        image = np.array(image, dtype=np.float32)\n",
    "        mask = np.array(mask, dtype=np.float32)\n",
    "        image = image.transpose((2, 0, 1))\n",
    "        mask = mask.reshape((1, self.target_size[0],self.target_size[1]))\n",
    "        return image, mask\n",
    "    \n",
    "    def __len__(self):\n",
    "        return len(self.image)"
   ]
  },
  {
   "cell_type": "code",
   "execution_count": 33,
   "metadata": {},
   "outputs": [],
   "source": [
    "data_loader = torch.utils.data.DataLoader(LoadData(path_image, path_mask, (256,256)),\n",
    "                                         batch_size=3, shuffle=False)"
   ]
  },
  {
   "cell_type": "code",
   "execution_count": 34,
   "metadata": {
    "scrolled": true
   },
   "outputs": [
    {
     "name": "stdout",
     "output_type": "stream",
     "text": [
      "torch.Size([3, 3, 256, 256])\n",
      "torch.Size([3, 1, 256, 256])\n"
     ]
    }
   ],
   "source": [
    "for img, msk in data_loader:\n",
    "    print(img.shape)\n",
    "    print(msk.shape)\n",
    "    break"
   ]
  },
  {
   "cell_type": "code",
   "execution_count": 35,
   "metadata": {},
   "outputs": [],
   "source": [
    "from model import VGG16"
   ]
  },
  {
   "cell_type": "code",
   "execution_count": 36,
   "metadata": {},
   "outputs": [],
   "source": [
    "vgg = VGG16()"
   ]
  },
  {
   "cell_type": "code",
   "execution_count": 26,
   "metadata": {},
   "outputs": [],
   "source": [
    "state_dict = torch.load(\"./model/vgg16_no_top.pth\")"
   ]
  },
  {
   "cell_type": "code",
   "execution_count": 29,
   "metadata": {},
   "outputs": [
    {
     "data": {
      "text/plain": [
       "odict_keys(['conv1_1.weight', 'conv1_1.bias', 'conv1_2.weight', 'conv1_2.bias', 'conv2_1.weight', 'conv2_1.bias', 'conv2_2.weight', 'conv2_2.bias', 'conv3_1.weight', 'conv3_1.bias', 'conv3_2.weight', 'conv3_2.bias', 'conv3_3.weight', 'conv3_3.bias', 'conv4_1.weight', 'conv4_1.bias', 'conv4_2.weight', 'conv4_2.bias', 'conv4_3.weight', 'conv4_3.bias', 'conv5_1.weight', 'conv5_1.bias', 'conv5_2.weight', 'conv5_2.bias', 'conv5_3.weight', 'conv5_3.bias'])"
      ]
     },
     "execution_count": 29,
     "metadata": {},
     "output_type": "execute_result"
    }
   ],
   "source": [
    "state_dict.keys()"
   ]
  },
  {
   "cell_type": "code",
   "execution_count": 28,
   "metadata": {},
   "outputs": [
    {
     "data": {
      "text/plain": [
       "_IncompatibleKeys(missing_keys=['mfe1.conv11.weight', 'mfe1.conv11.bias', 'mfe1.conv33.weight', 'mfe1.conv33.bias', 'mfe1.conv55.weight', 'mfe1.conv55.bias', 'mfe2.conv11.weight', 'mfe2.conv11.bias', 'mfe2.conv33.weight', 'mfe2.conv33.bias', 'mfe2.conv55.weight', 'mfe2.conv55.bias', 'mfe3.conv11.weight', 'mfe3.conv11.bias', 'mfe3.conv33.weight', 'mfe3.conv33.bias', 'mfe3.conv55.weight', 'mfe3.conv55.bias', 'mfe4.conv11.weight', 'mfe4.conv11.bias', 'mfe4.conv33.weight', 'mfe4.conv33.bias', 'mfe4.conv55.weight', 'mfe4.conv55.bias', 'mfe5.conv11.weight', 'mfe5.conv11.bias', 'mfe5.conv33.weight', 'mfe5.conv33.bias', 'mfe5.conv55.weight', 'mfe5.conv55.bias', 'mfe6.conv11.weight', 'mfe6.conv11.bias', 'mfe6.conv33.weight', 'mfe6.conv33.bias', 'mfe6.conv55.weight', 'mfe6.conv55.bias', 'mfe7.conv11.weight', 'mfe7.conv11.bias', 'mfe7.conv33.weight', 'mfe7.conv33.bias', 'mfe7.conv55.weight', 'mfe7.conv55.bias', 'mfe8.conv11.weight', 'mfe8.conv11.bias', 'mfe8.conv33.weight', 'mfe8.conv33.bias', 'mfe8.conv55.weight', 'mfe8.conv55.bias', 'mfe9.conv11.weight', 'mfe9.conv11.bias', 'mfe9.conv33.weight', 'mfe9.conv33.bias', 'mfe9.conv55.weight', 'mfe9.conv55.bias', 'mfe10.conv11.weight', 'mfe10.conv11.bias', 'mfe10.conv33.weight', 'mfe10.conv33.bias', 'mfe10.conv55.weight', 'mfe10.conv55.bias', 'mfe11.conv11.weight', 'mfe11.conv11.bias', 'mfe11.conv33.weight', 'mfe11.conv33.bias', 'mfe11.conv55.weight', 'mfe11.conv55.bias', 'mfe12.conv11.weight', 'mfe12.conv11.bias', 'mfe12.conv33.weight', 'mfe12.conv33.bias', 'mfe12.conv55.weight', 'mfe12.conv55.bias', 'mfe13.conv11.weight', 'mfe13.conv11.bias', 'mfe13.conv33.weight', 'mfe13.conv33.bias', 'mfe13.conv55.weight', 'mfe13.conv55.bias', 'CA.linear_1.weight', 'CA.linear_1.bias', 'CA.linear_2.weight', 'CA.linear_2.bias', 'SA.conv1k_1.weight', 'SA.conv1k_1.bias', 'SA.bn1_1.weight', 'SA.bn1_1.bias', 'SA.bn1_1.running_mean', 'SA.bn1_1.running_var', 'SA.convk1_1.weight', 'SA.convk1_1.bias', 'SA.bn2_1.weight', 'SA.bn2_1.bias', 'SA.bn2_1.running_mean', 'SA.bn2_1.running_var', 'SA.convk1_2.weight', 'SA.convk1_2.bias', 'SA.bn1_2.weight', 'SA.bn1_2.bias', 'SA.bn1_2.running_mean', 'SA.bn1_2.running_var', 'SA.conv1k_2.weight', 'SA.conv1k_2.bias', 'SA.bn2_2.weight', 'SA.bn2_2.bias', 'SA.bn2_2.running_mean', 'SA.bn2_2.running_var', 'conv_ca_64.weight', 'conv_ca_64.bias', 'bn.weight', 'bn.bias', 'bn.running_mean', 'bn.running_var', 'conv.weight', 'conv.bias'], unexpected_keys=[])"
      ]
     },
     "execution_count": 28,
     "metadata": {},
     "output_type": "execute_result"
    }
   ],
   "source": [
    "vgg.load_state_dict(state_dict, strict=False)"
   ]
  },
  {
   "cell_type": "code",
   "execution_count": null,
   "metadata": {},
   "outputs": [],
   "source": []
  }
 ],
 "metadata": {
  "kernelspec": {
   "display_name": "Python 3",
   "language": "python",
   "name": "python3"
  },
  "language_info": {
   "codemirror_mode": {
    "name": "ipython",
    "version": 3
   },
   "file_extension": ".py",
   "mimetype": "text/x-python",
   "name": "python",
   "nbconvert_exporter": "python",
   "pygments_lexer": "ipython3",
   "version": "3.6.10"
  }
 },
 "nbformat": 4,
 "nbformat_minor": 4
}
