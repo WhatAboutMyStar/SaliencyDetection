{
 "cells": [
  {
   "cell_type": "code",
   "execution_count": 1,
   "metadata": {},
   "outputs": [
    {
     "data": {
      "text/plain": [
       "'1.6.0+cu101'"
      ]
     },
     "execution_count": 1,
     "metadata": {},
     "output_type": "execute_result"
    }
   ],
   "source": [
    "import torch\n",
    "from data import LoadData\n",
    "from model import VGG16\n",
    "from torch.utils import data\n",
    "from utils import *\n",
    "from loss import EdgeSaliencyLoss\n",
    "import os\n",
    "\n",
    "torch.__version__"
   ]
  },
  {
   "cell_type": "code",
   "execution_count": 2,
   "metadata": {},
   "outputs": [
    {
     "data": {
      "text/plain": [
       "device(type='cuda')"
      ]
     },
     "execution_count": 2,
     "metadata": {},
     "output_type": "execute_result"
    }
   ],
   "source": [
    "if torch.cuda.is_available():\n",
    "    device = torch.device(device='cuda')\n",
    "else:\n",
    "    device = torch.device(device='cpu')\n",
    "device"
   ]
  },
  {
   "cell_type": "code",
   "execution_count": 3,
   "metadata": {},
   "outputs": [],
   "source": [
    "path_image = \"./DUTS/DUTS-TR/DUTS-TR-Image/\"\n",
    "path_mask = \"./DUTS/DUTS-TR/DUTS-TR-Mask/\""
   ]
  },
  {
   "cell_type": "code",
   "execution_count": 4,
   "metadata": {},
   "outputs": [
    {
     "data": {
      "text/plain": [
       "10553"
      ]
     },
     "execution_count": 4,
     "metadata": {},
     "output_type": "execute_result"
    }
   ],
   "source": [
    "len(os.listdir(path_image))"
   ]
  },
  {
   "cell_type": "code",
   "execution_count": 5,
   "metadata": {},
   "outputs": [],
   "source": [
    "batch_size = 4\n",
    "learning_rate = 1e-3\n",
    "target_size = 256\n",
    "epochs = 1"
   ]
  },
  {
   "cell_type": "code",
   "execution_count": 6,
   "metadata": {},
   "outputs": [
    {
     "data": {
      "text/plain": [
       "2638"
      ]
     },
     "execution_count": 6,
     "metadata": {},
     "output_type": "execute_result"
    }
   ],
   "source": [
    "total_batch = len(os.listdir(path_image)) // batch_size\n",
    "total_batch"
   ]
  },
  {
   "cell_type": "code",
   "execution_count": 7,
   "metadata": {},
   "outputs": [],
   "source": [
    "data_loader = data.DataLoader(LoadData(path_image, path_mask, target_size),\n",
    "                            batch_size=batch_size,\n",
    "                            shuffle=True)"
   ]
  },
  {
   "cell_type": "code",
   "execution_count": 8,
   "metadata": {},
   "outputs": [],
   "source": [
    "model = VGG16()"
   ]
  },
  {
   "cell_type": "code",
   "execution_count": 9,
   "metadata": {},
   "outputs": [
    {
     "data": {
      "text/plain": [
       "<All keys matched successfully>"
      ]
     },
     "execution_count": 9,
     "metadata": {},
     "output_type": "execute_result"
    }
   ],
   "source": [
    "model.load_state_dict(torch.load(\"./model/model_1.pth\"), strict=False)"
   ]
  },
  {
   "cell_type": "code",
   "execution_count": 10,
   "metadata": {},
   "outputs": [
    {
     "data": {
      "text/plain": [
       "VGG16(\n",
       "  (conv1_1): Conv2d(3, 64, kernel_size=(3, 3), stride=(1, 1), padding=(1, 1))\n",
       "  (conv1_2): Conv2d(64, 64, kernel_size=(3, 3), stride=(1, 1), padding=(1, 1))\n",
       "  (maxpooling1): MaxPool2d(kernel_size=2, stride=(2, 2), padding=0, dilation=1, ceil_mode=False)\n",
       "  (conv2_1): Conv2d(64, 128, kernel_size=(3, 3), stride=(1, 1), padding=(1, 1))\n",
       "  (conv2_2): Conv2d(128, 128, kernel_size=(3, 3), stride=(1, 1), padding=(1, 1))\n",
       "  (maxpooling2): MaxPool2d(kernel_size=2, stride=(2, 2), padding=0, dilation=1, ceil_mode=False)\n",
       "  (conv3_1): Conv2d(128, 256, kernel_size=(3, 3), stride=(1, 1), padding=(1, 1))\n",
       "  (conv3_2): Conv2d(256, 256, kernel_size=(3, 3), stride=(1, 1), padding=(1, 1))\n",
       "  (conv3_3): Conv2d(256, 256, kernel_size=(3, 3), stride=(1, 1), padding=(1, 1))\n",
       "  (maxpooling3): MaxPool2d(kernel_size=2, stride=(2, 2), padding=0, dilation=1, ceil_mode=False)\n",
       "  (conv4_1): Conv2d(256, 512, kernel_size=(3, 3), stride=(1, 1), padding=(1, 1))\n",
       "  (conv4_2): Conv2d(512, 512, kernel_size=(3, 3), stride=(1, 1), padding=(1, 1))\n",
       "  (conv4_3): Conv2d(512, 512, kernel_size=(3, 3), stride=(1, 1), padding=(1, 1))\n",
       "  (maxpooling4): MaxPool2d(kernel_size=2, stride=(2, 2), padding=0, dilation=1, ceil_mode=False)\n",
       "  (conv5_1): Conv2d(512, 512, kernel_size=(3, 3), stride=(1, 1), padding=(1, 1))\n",
       "  (conv5_2): Conv2d(512, 512, kernel_size=(3, 3), stride=(1, 1), padding=(1, 1))\n",
       "  (conv5_3): Conv2d(512, 512, kernel_size=(3, 3), stride=(1, 1), padding=(1, 1))\n",
       "  (maxpooling5): MaxPool2d(kernel_size=2, stride=(2, 2), padding=0, dilation=1, ceil_mode=False)\n",
       "  (mfe1): MFE(\n",
       "    (conv11): Conv2d(512, 512, kernel_size=(1, 1), stride=(1, 1))\n",
       "    (conv33): Conv2d(512, 512, kernel_size=(3, 3), stride=(1, 1), padding=(1, 1))\n",
       "    (conv55): Conv2d(512, 512, kernel_size=(5, 5), stride=(1, 1), padding=(2, 2))\n",
       "  )\n",
       "  (mfe2): MFE(\n",
       "    (conv11): Conv2d(1024, 256, kernel_size=(1, 1), stride=(1, 1))\n",
       "    (conv33): Conv2d(1024, 256, kernel_size=(3, 3), stride=(1, 1), padding=(1, 1))\n",
       "    (conv55): Conv2d(1024, 256, kernel_size=(5, 5), stride=(1, 1), padding=(2, 2))\n",
       "  )\n",
       "  (mfe3): MFE(\n",
       "    (conv11): Conv2d(512, 128, kernel_size=(1, 1), stride=(1, 1))\n",
       "    (conv33): Conv2d(512, 128, kernel_size=(3, 3), stride=(1, 1), padding=(1, 1))\n",
       "    (conv55): Conv2d(512, 128, kernel_size=(5, 5), stride=(1, 1), padding=(2, 2))\n",
       "  )\n",
       "  (mfe4): MFE(\n",
       "    (conv11): Conv2d(256, 64, kernel_size=(1, 1), stride=(1, 1))\n",
       "    (conv33): Conv2d(256, 64, kernel_size=(3, 3), stride=(1, 1), padding=(1, 1))\n",
       "    (conv55): Conv2d(256, 64, kernel_size=(5, 5), stride=(1, 1), padding=(2, 2))\n",
       "  )\n",
       "  (mfe5): MFE(\n",
       "    (conv11): Conv2d(128, 64, kernel_size=(1, 1), stride=(1, 1))\n",
       "    (conv33): Conv2d(128, 64, kernel_size=(3, 3), stride=(1, 1), padding=(1, 1))\n",
       "    (conv55): Conv2d(128, 64, kernel_size=(5, 5), stride=(1, 1), padding=(2, 2))\n",
       "  )\n",
       "  (mfe6): MFE(\n",
       "    (conv11): Conv2d(128, 64, kernel_size=(1, 1), stride=(1, 1))\n",
       "    (conv33): Conv2d(128, 64, kernel_size=(3, 3), stride=(1, 1), padding=(1, 1))\n",
       "    (conv55): Conv2d(128, 64, kernel_size=(5, 5), stride=(1, 1), padding=(2, 2))\n",
       "  )\n",
       "  (mfe7): MFE(\n",
       "    (conv11): Conv2d(256, 128, kernel_size=(1, 1), stride=(1, 1))\n",
       "    (conv33): Conv2d(256, 128, kernel_size=(3, 3), stride=(1, 1), padding=(1, 1))\n",
       "    (conv55): Conv2d(256, 128, kernel_size=(5, 5), stride=(1, 1), padding=(2, 2))\n",
       "  )\n",
       "  (mfe8): MFE(\n",
       "    (conv11): Conv2d(512, 256, kernel_size=(1, 1), stride=(1, 1))\n",
       "    (conv33): Conv2d(512, 256, kernel_size=(3, 3), stride=(1, 1), padding=(1, 1))\n",
       "    (conv55): Conv2d(512, 256, kernel_size=(5, 5), stride=(1, 1), padding=(2, 2))\n",
       "  )\n",
       "  (mfe11): MFE(\n",
       "    (conv11): Conv2d(192, 64, kernel_size=(1, 1), stride=(1, 1))\n",
       "    (conv33): Conv2d(192, 64, kernel_size=(3, 3), stride=(1, 1), padding=(1, 1))\n",
       "    (conv55): Conv2d(192, 64, kernel_size=(5, 5), stride=(1, 1), padding=(2, 2))\n",
       "  )\n",
       "  (mfe12): MFE(\n",
       "    (conv11): Conv2d(768, 256, kernel_size=(1, 1), stride=(1, 1))\n",
       "    (conv33): Conv2d(768, 256, kernel_size=(3, 3), stride=(1, 1), padding=(1, 1))\n",
       "    (conv55): Conv2d(768, 256, kernel_size=(5, 5), stride=(1, 1), padding=(2, 2))\n",
       "  )\n",
       "  (CA): ChannelWiseAttention(\n",
       "    (linear_1): Linear(in_features=512, out_features=128, bias=True)\n",
       "    (linear_2): Linear(in_features=128, out_features=512, bias=True)\n",
       "  )\n",
       "  (SA): SpatialAttention(\n",
       "    (conv1k_1): Conv2d(64, 32, kernel_size=(1, 9), stride=(1, 1), padding=(0, 4))\n",
       "    (bn1_1): BatchNorm2d(32, eps=1e-05, momentum=0.1, affine=True, track_running_stats=True)\n",
       "    (convk1_1): Conv2d(32, 1, kernel_size=(9, 1), stride=(1, 1), padding=(4, 0))\n",
       "    (bn2_1): BatchNorm2d(1, eps=1e-05, momentum=0.1, affine=True, track_running_stats=True)\n",
       "    (convk1_2): Conv2d(64, 32, kernel_size=(9, 1), stride=(1, 1), padding=(4, 0))\n",
       "    (bn1_2): BatchNorm2d(32, eps=1e-05, momentum=0.1, affine=True, track_running_stats=True)\n",
       "    (conv1k_2): Conv2d(32, 1, kernel_size=(1, 9), stride=(1, 1), padding=(0, 4))\n",
       "    (bn2_2): BatchNorm2d(1, eps=1e-05, momentum=0.1, affine=True, track_running_stats=True)\n",
       "  )\n",
       "  (conv11): Conv2d(512, 64, kernel_size=(1, 1), stride=(1, 1))\n",
       "  (bn1): BatchNorm2d(64, eps=1e-05, momentum=0.1, affine=True, track_running_stats=True)\n",
       "  (bn2): BatchNorm2d(128, eps=1e-05, momentum=0.1, affine=True, track_running_stats=True)\n",
       "  (bn3): BatchNorm2d(64, eps=1e-05, momentum=0.1, affine=True, track_running_stats=True)\n",
       "  (bn4): BatchNorm2d(64, eps=1e-05, momentum=0.1, affine=True, track_running_stats=True)\n",
       "  (conv): Conv2d(128, 1, kernel_size=(1, 1), stride=(1, 1))\n",
       ")"
      ]
     },
     "execution_count": 10,
     "metadata": {},
     "output_type": "execute_result"
    }
   ],
   "source": [
    "model.eval()"
   ]
  },
  {
   "cell_type": "code",
   "execution_count": 11,
   "metadata": {},
   "outputs": [],
   "source": [
    "criterion = EdgeSaliencyLoss(device)\n",
    "optimizer = torch.optim.SGD(model.parameters(), lr=learning_rate)"
   ]
  },
  {
   "cell_type": "code",
   "execution_count": 12,
   "metadata": {},
   "outputs": [
    {
     "data": {
      "text/plain": [
       "VGG16(\n",
       "  (conv1_1): Conv2d(3, 64, kernel_size=(3, 3), stride=(1, 1), padding=(1, 1))\n",
       "  (conv1_2): Conv2d(64, 64, kernel_size=(3, 3), stride=(1, 1), padding=(1, 1))\n",
       "  (maxpooling1): MaxPool2d(kernel_size=2, stride=(2, 2), padding=0, dilation=1, ceil_mode=False)\n",
       "  (conv2_1): Conv2d(64, 128, kernel_size=(3, 3), stride=(1, 1), padding=(1, 1))\n",
       "  (conv2_2): Conv2d(128, 128, kernel_size=(3, 3), stride=(1, 1), padding=(1, 1))\n",
       "  (maxpooling2): MaxPool2d(kernel_size=2, stride=(2, 2), padding=0, dilation=1, ceil_mode=False)\n",
       "  (conv3_1): Conv2d(128, 256, kernel_size=(3, 3), stride=(1, 1), padding=(1, 1))\n",
       "  (conv3_2): Conv2d(256, 256, kernel_size=(3, 3), stride=(1, 1), padding=(1, 1))\n",
       "  (conv3_3): Conv2d(256, 256, kernel_size=(3, 3), stride=(1, 1), padding=(1, 1))\n",
       "  (maxpooling3): MaxPool2d(kernel_size=2, stride=(2, 2), padding=0, dilation=1, ceil_mode=False)\n",
       "  (conv4_1): Conv2d(256, 512, kernel_size=(3, 3), stride=(1, 1), padding=(1, 1))\n",
       "  (conv4_2): Conv2d(512, 512, kernel_size=(3, 3), stride=(1, 1), padding=(1, 1))\n",
       "  (conv4_3): Conv2d(512, 512, kernel_size=(3, 3), stride=(1, 1), padding=(1, 1))\n",
       "  (maxpooling4): MaxPool2d(kernel_size=2, stride=(2, 2), padding=0, dilation=1, ceil_mode=False)\n",
       "  (conv5_1): Conv2d(512, 512, kernel_size=(3, 3), stride=(1, 1), padding=(1, 1))\n",
       "  (conv5_2): Conv2d(512, 512, kernel_size=(3, 3), stride=(1, 1), padding=(1, 1))\n",
       "  (conv5_3): Conv2d(512, 512, kernel_size=(3, 3), stride=(1, 1), padding=(1, 1))\n",
       "  (maxpooling5): MaxPool2d(kernel_size=2, stride=(2, 2), padding=0, dilation=1, ceil_mode=False)\n",
       "  (mfe1): MFE(\n",
       "    (conv11): Conv2d(512, 512, kernel_size=(1, 1), stride=(1, 1))\n",
       "    (conv33): Conv2d(512, 512, kernel_size=(3, 3), stride=(1, 1), padding=(1, 1))\n",
       "    (conv55): Conv2d(512, 512, kernel_size=(5, 5), stride=(1, 1), padding=(2, 2))\n",
       "  )\n",
       "  (mfe2): MFE(\n",
       "    (conv11): Conv2d(1024, 256, kernel_size=(1, 1), stride=(1, 1))\n",
       "    (conv33): Conv2d(1024, 256, kernel_size=(3, 3), stride=(1, 1), padding=(1, 1))\n",
       "    (conv55): Conv2d(1024, 256, kernel_size=(5, 5), stride=(1, 1), padding=(2, 2))\n",
       "  )\n",
       "  (mfe3): MFE(\n",
       "    (conv11): Conv2d(512, 128, kernel_size=(1, 1), stride=(1, 1))\n",
       "    (conv33): Conv2d(512, 128, kernel_size=(3, 3), stride=(1, 1), padding=(1, 1))\n",
       "    (conv55): Conv2d(512, 128, kernel_size=(5, 5), stride=(1, 1), padding=(2, 2))\n",
       "  )\n",
       "  (mfe4): MFE(\n",
       "    (conv11): Conv2d(256, 64, kernel_size=(1, 1), stride=(1, 1))\n",
       "    (conv33): Conv2d(256, 64, kernel_size=(3, 3), stride=(1, 1), padding=(1, 1))\n",
       "    (conv55): Conv2d(256, 64, kernel_size=(5, 5), stride=(1, 1), padding=(2, 2))\n",
       "  )\n",
       "  (mfe5): MFE(\n",
       "    (conv11): Conv2d(128, 64, kernel_size=(1, 1), stride=(1, 1))\n",
       "    (conv33): Conv2d(128, 64, kernel_size=(3, 3), stride=(1, 1), padding=(1, 1))\n",
       "    (conv55): Conv2d(128, 64, kernel_size=(5, 5), stride=(1, 1), padding=(2, 2))\n",
       "  )\n",
       "  (mfe6): MFE(\n",
       "    (conv11): Conv2d(128, 64, kernel_size=(1, 1), stride=(1, 1))\n",
       "    (conv33): Conv2d(128, 64, kernel_size=(3, 3), stride=(1, 1), padding=(1, 1))\n",
       "    (conv55): Conv2d(128, 64, kernel_size=(5, 5), stride=(1, 1), padding=(2, 2))\n",
       "  )\n",
       "  (mfe7): MFE(\n",
       "    (conv11): Conv2d(256, 128, kernel_size=(1, 1), stride=(1, 1))\n",
       "    (conv33): Conv2d(256, 128, kernel_size=(3, 3), stride=(1, 1), padding=(1, 1))\n",
       "    (conv55): Conv2d(256, 128, kernel_size=(5, 5), stride=(1, 1), padding=(2, 2))\n",
       "  )\n",
       "  (mfe8): MFE(\n",
       "    (conv11): Conv2d(512, 256, kernel_size=(1, 1), stride=(1, 1))\n",
       "    (conv33): Conv2d(512, 256, kernel_size=(3, 3), stride=(1, 1), padding=(1, 1))\n",
       "    (conv55): Conv2d(512, 256, kernel_size=(5, 5), stride=(1, 1), padding=(2, 2))\n",
       "  )\n",
       "  (mfe11): MFE(\n",
       "    (conv11): Conv2d(192, 64, kernel_size=(1, 1), stride=(1, 1))\n",
       "    (conv33): Conv2d(192, 64, kernel_size=(3, 3), stride=(1, 1), padding=(1, 1))\n",
       "    (conv55): Conv2d(192, 64, kernel_size=(5, 5), stride=(1, 1), padding=(2, 2))\n",
       "  )\n",
       "  (mfe12): MFE(\n",
       "    (conv11): Conv2d(768, 256, kernel_size=(1, 1), stride=(1, 1))\n",
       "    (conv33): Conv2d(768, 256, kernel_size=(3, 3), stride=(1, 1), padding=(1, 1))\n",
       "    (conv55): Conv2d(768, 256, kernel_size=(5, 5), stride=(1, 1), padding=(2, 2))\n",
       "  )\n",
       "  (CA): ChannelWiseAttention(\n",
       "    (linear_1): Linear(in_features=512, out_features=128, bias=True)\n",
       "    (linear_2): Linear(in_features=128, out_features=512, bias=True)\n",
       "  )\n",
       "  (SA): SpatialAttention(\n",
       "    (conv1k_1): Conv2d(64, 32, kernel_size=(1, 9), stride=(1, 1), padding=(0, 4))\n",
       "    (bn1_1): BatchNorm2d(32, eps=1e-05, momentum=0.1, affine=True, track_running_stats=True)\n",
       "    (convk1_1): Conv2d(32, 1, kernel_size=(9, 1), stride=(1, 1), padding=(4, 0))\n",
       "    (bn2_1): BatchNorm2d(1, eps=1e-05, momentum=0.1, affine=True, track_running_stats=True)\n",
       "    (convk1_2): Conv2d(64, 32, kernel_size=(9, 1), stride=(1, 1), padding=(4, 0))\n",
       "    (bn1_2): BatchNorm2d(32, eps=1e-05, momentum=0.1, affine=True, track_running_stats=True)\n",
       "    (conv1k_2): Conv2d(32, 1, kernel_size=(1, 9), stride=(1, 1), padding=(0, 4))\n",
       "    (bn2_2): BatchNorm2d(1, eps=1e-05, momentum=0.1, affine=True, track_running_stats=True)\n",
       "  )\n",
       "  (conv11): Conv2d(512, 64, kernel_size=(1, 1), stride=(1, 1))\n",
       "  (bn1): BatchNorm2d(64, eps=1e-05, momentum=0.1, affine=True, track_running_stats=True)\n",
       "  (bn2): BatchNorm2d(128, eps=1e-05, momentum=0.1, affine=True, track_running_stats=True)\n",
       "  (bn3): BatchNorm2d(64, eps=1e-05, momentum=0.1, affine=True, track_running_stats=True)\n",
       "  (bn4): BatchNorm2d(64, eps=1e-05, momentum=0.1, affine=True, track_running_stats=True)\n",
       "  (conv): Conv2d(128, 1, kernel_size=(1, 1), stride=(1, 1))\n",
       ")"
      ]
     },
     "execution_count": 12,
     "metadata": {},
     "output_type": "execute_result"
    }
   ],
   "source": [
    "model.to(device)"
   ]
  },
  {
   "cell_type": "code",
   "execution_count": 13,
   "metadata": {
    "scrolled": false
   },
   "outputs": [
    {
     "name": "stdout",
     "output_type": "stream",
     "text": [
      "Epoch:1 loss:0.34354615211486816 Batch:100/2638 acc:0.8707199096679688 pre:0.671257734298706 recall:0.79440838098526 F-measure:0.6961623430252075\n",
      "Epoch:1 loss:0.3350546658039093 Batch:200/2638 acc:0.8781852722167969 pre:0.9239149689674377 recall:0.497866690158844 F-measure:0.7715491652488708\n",
      "Epoch:1 loss:0.24220749735832214 Batch:300/2638 acc:0.8904380798339844 pre:0.6997556686401367 recall:0.9028701186180115 F-measure:0.7380727529525757\n",
      "Epoch:1 loss:0.3608689606189728 Batch:400/2638 acc:0.8411788940429688 pre:0.9502624869346619 recall:0.7179902195930481 F-measure:0.884249210357666\n",
      "Epoch:1 loss:0.2816926836967468 Batch:500/2638 acc:0.8811531066894531 pre:0.9407837390899658 recall:0.7951963543891907 F-measure:0.9026468396186829\n",
      "Epoch:1 loss:0.3704065680503845 Batch:600/2638 acc:0.8642463684082031 pre:0.9407534003257751 recall:0.706129252910614 F-measure:0.8737561702728271\n",
      "Epoch:1 loss:0.2642161548137665 Batch:700/2638 acc:0.9116859436035156 pre:0.955432116985321 recall:0.8357828259468079 F-measure:0.924877405166626\n",
      "Epoch:1 loss:0.1714814007282257 Batch:800/2638 acc:0.9338607788085938 pre:0.9220092296600342 recall:0.8905408978462219 F-measure:0.9145514369010925\n",
      "Epoch:1 loss:0.3835334777832031 Batch:900/2638 acc:0.8399658203125 pre:0.5822155475616455 recall:0.9623088240623474 F-measure:0.6406064033508301\n",
      "Epoch:1 loss:0.2771778404712677 Batch:1000/2638 acc:0.882415771484375 pre:0.6805316805839539 recall:0.8826062679290771 F-measure:0.7184933423995972\n",
      "Epoch:1 loss:0.24512317776679993 Batch:1100/2638 acc:0.9053153991699219 pre:0.6684085726737976 recall:0.7248273491859436 F-measure:0.6806344389915466\n",
      "Epoch:1 loss:0.20979183912277222 Batch:1200/2638 acc:0.9305877685546875 pre:0.7845456600189209 recall:0.8010125756263733 F-measure:0.7882853150367737\n",
      "Epoch:1 loss:0.3264196515083313 Batch:1300/2638 acc:0.8529510498046875 pre:0.7750056982040405 recall:0.7113767266273499 F-measure:0.7593321800231934\n",
      "Epoch:1 loss:0.22470712661743164 Batch:1400/2638 acc:0.9114952087402344 pre:0.6729736328125 recall:0.918504536151886 F-measure:0.7172175645828247\n",
      "Epoch:1 loss:0.2463804930448532 Batch:1500/2638 acc:0.9038734436035156 pre:0.756897509098053 recall:0.9358361959457397 F-measure:0.7918370962142944\n",
      "Epoch:1 loss:0.19974204897880554 Batch:1600/2638 acc:0.9363441467285156 pre:0.9058265089988708 recall:0.7507212162017822 F-measure:0.8646032214164734\n",
      "Epoch:1 loss:0.38307780027389526 Batch:1700/2638 acc:0.8346138000488281 pre:0.5529903173446655 recall:0.5732501149177551 F-measure:0.5575374960899353\n",
      "Epoch:1 loss:0.27604514360427856 Batch:1800/2638 acc:0.8951606750488281 pre:0.8626143932342529 recall:0.8770256638526917 F-measure:0.8658978343009949\n",
      "Epoch:1 loss:0.31478679180145264 Batch:1900/2638 acc:0.8948211669921875 pre:0.7780219912528992 recall:0.8562153577804565 F-measure:0.794771671295166\n",
      "Epoch:1 loss:0.23378825187683105 Batch:2000/2638 acc:0.9104804992675781 pre:0.8469522595405579 recall:0.8230483531951904 F-measure:0.8413134813308716\n",
      "Epoch:1 loss:0.2638077139854431 Batch:2100/2638 acc:0.8750038146972656 pre:0.884840726852417 recall:0.908752977848053 F-measure:0.8902465105056763\n",
      "Epoch:1 loss:0.26682400703430176 Batch:2200/2638 acc:0.8923759460449219 pre:0.889047384262085 recall:0.8526357412338257 F-measure:0.8803713917732239\n",
      "Epoch:1 loss:0.24602735042572021 Batch:2300/2638 acc:0.9087409973144531 pre:0.8734768629074097 recall:0.8200336694717407 F-measure:0.8605346083641052\n",
      "Epoch:1 loss:0.20866912603378296 Batch:2400/2638 acc:0.9289970397949219 pre:0.8811448216438293 recall:0.8408387303352356 F-measure:0.8715041875839233\n",
      "Epoch:1 loss:0.38510388135910034 Batch:2500/2638 acc:0.8726272583007812 pre:0.8471034169197083 recall:0.8157195448875427 F-measure:0.8396485447883606\n",
      "Epoch:1 loss:0.19078221917152405 Batch:2600/2638 acc:0.9264869689941406 pre:0.9230374097824097 recall:0.9271332025527954 F-measure:0.9239792823791504\n"
     ]
    }
   ],
   "source": [
    "for epoch in range(epochs):\n",
    "    model.train()\n",
    "    for batch_n, (image, mask) in enumerate(data_loader, start=1):\n",
    "        \n",
    "        image = image.to(device)\n",
    "        mask = mask.to(device)\n",
    "        \n",
    "        optimizer.zero_grad()\n",
    "        predict = model(image)\n",
    "        loss = criterion(predict, mask)\n",
    "        \n",
    "        loss.backward()\n",
    "        optimizer.step()\n",
    "        \n",
    "        if batch_n % 100 == 0:\n",
    "            acc = accuracy(predict, mask)\n",
    "            pre = precision(predict, mask)\n",
    "            rec = recall(predict, mask)\n",
    "            f_score = (1 + 0.3) * pre * rec / (0.3 * pre + rec)\n",
    "            print(\"Epoch:{} loss:{} Batch:{}/{}\".format(epoch + 1, loss.item(), batch_n, total_batch), end=\"\")\n",
    "            print(\" acc:{} pre:{} recall:{} F-measure:{}\".format(acc, pre, rec, f_score))"
   ]
  },
  {
   "cell_type": "code",
   "execution_count": 14,
   "metadata": {},
   "outputs": [],
   "source": [
    "torch.save(model.state_dict(),\"./model/model_2.pth\")"
   ]
  },
  {
   "cell_type": "code",
   "execution_count": 15,
   "metadata": {},
   "outputs": [],
   "source": [
    "import cv2\n",
    "import numpy as np\n",
    "from torchvision import transforms"
   ]
  },
  {
   "cell_type": "code",
   "execution_count": 16,
   "metadata": {},
   "outputs": [],
   "source": [
    "def pad_resize_image(inp_img, out_img=None, target_size=None):\n",
    "    h, w, c = inp_img.shape\n",
    "    size = max(h, w)\n",
    "\n",
    "    padding_h = (size - h) // 2\n",
    "    padding_w = (size - w) // 2\n",
    "\n",
    "    if out_img is None:\n",
    "        # For inference\n",
    "        temp_x = cv2.copyMakeBorder(inp_img, top=padding_h, bottom=padding_h, left=padding_w, right=padding_w,\n",
    "                                    borderType=cv2.BORDER_CONSTANT, value=[0, 0, 0])\n",
    "        if target_size is not None:\n",
    "            temp_x = cv2.resize(temp_x, (target_size, target_size), interpolation=cv2.INTER_AREA)\n",
    "        return temp_x\n",
    "    else:\n",
    "        # For training and testing\n",
    "        temp_x = cv2.copyMakeBorder(inp_img, top=padding_h, bottom=padding_h, left=padding_w, right=padding_w,\n",
    "                                    borderType=cv2.BORDER_CONSTANT, value=[0, 0, 0])\n",
    "        temp_y = cv2.copyMakeBorder(out_img, top=padding_h, bottom=padding_h, left=padding_w, right=padding_w,\n",
    "                                    borderType=cv2.BORDER_CONSTANT, value=[0, 0, 0])\n",
    "        # print(inp_img.shape, temp_x.shape, out_img.shape, temp_y.shape)\n",
    "\n",
    "        if target_size is not None:\n",
    "            temp_x = cv2.resize(temp_x, (target_size, target_size), interpolation=cv2.INTER_AREA)\n",
    "            temp_y = cv2.resize(temp_y, (target_size, target_size), interpolation=cv2.INTER_AREA)\n",
    "        return temp_x, temp_y\n"
   ]
  },
  {
   "cell_type": "code",
   "execution_count": 17,
   "metadata": {},
   "outputs": [],
   "source": [
    "def getInput(img_path):\n",
    "    img = cv2.imread(img_path)\n",
    "    img = cv2.cvtColor(img, cv2.COLOR_BGR2RGB)\n",
    "    img = img.astype('float32')\n",
    "    \n",
    "    img = pad_resize_image(img, target_size=256)\n",
    "    img /= 255.\n",
    "    img = np.transpose(img, axes=(2, 0, 1))\n",
    "    img = torch.from_numpy(img).float()\n",
    "    \n",
    "    normalize = transforms.Normalize(mean=[0.485, 0.456, 0.406],\n",
    "                                    std=[0.229, 0.224, 0.225]) \n",
    "    \n",
    "    img = normalize(img)\n",
    "    return img"
   ]
  },
  {
   "cell_type": "code",
   "execution_count": 18,
   "metadata": {},
   "outputs": [],
   "source": [
    "img = getInput(\"./image/1.jpg\")"
   ]
  },
  {
   "cell_type": "code",
   "execution_count": 19,
   "metadata": {},
   "outputs": [
    {
     "data": {
      "text/plain": [
       "torch.Size([3, 256, 256])"
      ]
     },
     "execution_count": 19,
     "metadata": {},
     "output_type": "execute_result"
    }
   ],
   "source": [
    "img.shape"
   ]
  },
  {
   "cell_type": "code",
   "execution_count": 20,
   "metadata": {},
   "outputs": [],
   "source": [
    "img = img.reshape(1, 3, 256, 256)\n",
    "img = img.to(device)"
   ]
  },
  {
   "cell_type": "code",
   "execution_count": 21,
   "metadata": {},
   "outputs": [],
   "source": [
    "predict = model(img)"
   ]
  },
  {
   "cell_type": "code",
   "execution_count": 22,
   "metadata": {},
   "outputs": [
    {
     "data": {
      "text/plain": [
       "torch.Size([1, 1, 256, 256])"
      ]
     },
     "execution_count": 22,
     "metadata": {},
     "output_type": "execute_result"
    }
   ],
   "source": [
    "predict.shape"
   ]
  },
  {
   "cell_type": "code",
   "execution_count": 23,
   "metadata": {},
   "outputs": [],
   "source": [
    "msk = predict.reshape(256, 256, 1)\n",
    "msk = msk.cpu().detach()"
   ]
  },
  {
   "cell_type": "code",
   "execution_count": 24,
   "metadata": {},
   "outputs": [
    {
     "data": {
      "text/plain": [
       "torch.Size([256, 256, 1])"
      ]
     },
     "execution_count": 24,
     "metadata": {},
     "output_type": "execute_result"
    }
   ],
   "source": [
    "msk.shape"
   ]
  },
  {
   "cell_type": "code",
   "execution_count": 25,
   "metadata": {},
   "outputs": [],
   "source": [
    "cv2.imshow(\"test\", np.array(msk))\n",
    "cv2.waitKey(0)\n",
    "cv2.destroyAllWindows()"
   ]
  }
 ],
 "metadata": {
  "kernelspec": {
   "display_name": "Python 3",
   "language": "python",
   "name": "python3"
  },
  "language_info": {
   "codemirror_mode": {
    "name": "ipython",
    "version": 3
   },
   "file_extension": ".py",
   "mimetype": "text/x-python",
   "name": "python",
   "nbconvert_exporter": "python",
   "pygments_lexer": "ipython3",
   "version": "3.6.10"
  }
 },
 "nbformat": 4,
 "nbformat_minor": 4
}
